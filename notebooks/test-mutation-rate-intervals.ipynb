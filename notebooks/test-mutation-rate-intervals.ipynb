{
 "cells": [
  {
   "cell_type": "code",
   "execution_count": 33,
   "id": "wired-basketball",
   "metadata": {},
   "outputs": [],
   "source": [
    "import os\n",
    "import sys\n",
    "#import re\n",
    "import glob\n",
    "import pandas as pd\n",
    "import seaborn as sns\n",
    "import numpy as np\n",
    "import matplotlib.pyplot as plt\n",
    "sns.set_context(\"paper\")\n",
    "\n",
    "sys.path.append(\"../mutation-rate-intervals\")"
   ]
  },
  {
   "cell_type": "code",
   "execution_count": 77,
   "id": "popular-guyana",
   "metadata": {},
   "outputs": [
    {
     "data": {
      "text/plain": [
       "'1.2.1'"
      ]
     },
     "execution_count": 77,
     "metadata": {},
     "output_type": "execute_result"
    }
   ],
   "source": [
    "pd.__version__"
   ]
  },
  {
   "cell_type": "code",
   "execution_count": 34,
   "id": "weekly-baltimore",
   "metadata": {},
   "outputs": [],
   "source": [
    "import kmer_mutation_formulas_thm5 as kmf"
   ]
  },
  {
   "cell_type": "code",
   "execution_count": 35,
   "id": "clinical-attitude",
   "metadata": {},
   "outputs": [
    {
     "data": {
      "text/plain": [
       "<function kmer_mutation_formulas_thm5.p_mutated(k, r1)>"
      ]
     },
     "execution_count": 35,
     "metadata": {},
     "output_type": "execute_result"
    }
   ],
   "source": [
    "kmf.p_mutated"
   ]
  },
  {
   "cell_type": "raw",
   "id": "amino-retirement",
   "metadata": {},
   "source": [
    "r1-from-jaccard.py\n",
    "\n",
    "Compute confidence interval for the mutation rate r1, given the observed\n",
    "Jaccard.\n",
    "\n",
    "usage: r1-from-jaccard.py [options]\n",
    "  --jhat=<list>               (J=) (cumulative) observations of jaccard\n",
    "                              index; <list> is a comma-separated list of\n",
    "                              numbers between 0 and 1\n",
    "  --length=<N>                (l=) sequence length (number of NUCLEOTIDES in\n",
    "                              the sequence)\n",
    "                              (default is 1000 plus kmer size minus 1)\n",
    "  L=<N>                       (L=) sequence length (number of KMERS in\n",
    "                              the sequence)\n",
    "                              (default is 1000)\n",
    "  --k=<N>                     (K=) kmer size\n",
    "                              (default is 21)\n",
    "  --confidence=<probability>  (C=) size of confidence interval\n",
    "                              (default is 95%)\n",
    "  --validate[=<N>]            (V=) run simulations to validate the interval;\n",
    "                              N is the number of simulation trials; if N is not\n",
    "                              provided, 10,000 simulations are run\n",
    "                              (by default, no simulation is performed)\n",
    "  --seed=<string>             random seed for simulations\n",
    "  --progress=<number>         periodically report how many simulations we've\n",
    "                              performed"
   ]
  },
  {
   "cell_type": "code",
   "execution_count": 38,
   "id": "mobile-wallace",
   "metadata": {},
   "outputs": [
    {
     "name": "stdout",
     "output_type": "stream",
     "text": [
      "L\tk\tconf\tjaccard\tr1Low\tr1High\n",
      "4500000\t21\t0.950\t0.200000\t0.050725\t0.051215\n"
     ]
    }
   ],
   "source": [
    "%%bash\n",
    "\n",
    "# run the readme commands\n",
    "\n",
    "python ../mutation-rate-intervals/r1-from-jaccard.py L=4.5M k=21 C=0.95 J=0.20"
   ]
  },
  {
   "cell_type": "raw",
   "id": "interior-satin",
   "metadata": {},
   "source": [
    "r1-from-minhash-jaccard.py \n",
    "\n",
    "Compute confidence interval for the mutation rate r1, given the observed\n",
    "minhash Jaccard estimate.\n",
    "\n",
    "usage: r1-from-minhash-jaccard.py [options]\n",
    "  --jhat=<list>               (J=) (cumulative) observed estimates of jaccard\n",
    "                              index; <list> is a comma-separated list of\n",
    "                              numbers between 0 and 1\n",
    "  --length=<N>                (l=) sequence length (number of NUCLEOTIDES in\n",
    "                              the sequence)\n",
    "                              (default is 1000 plus kmer size minus 1)\n",
    "  L=<N>                       (L=) sequence length (number of KMERS in\n",
    "                              the sequence)\n",
    "                              (default is 1000)\n",
    "  --k=<N>                     (K=) kmer size\n",
    "                              (default is 21)\n",
    "  --sketch=<N>                (S=) sketch size\n",
    "                              (there is no default)\n",
    "  --confidence=<probability>  (C=) size of confidence interval\n",
    "                              (default is 95%)\n",
    "  --slices=<N>                (m=) number of slices\n",
    "                              (default is 100)\n",
    "  --validate[=<N>]            (V=) run simulations to validate the interval;\n",
    "                              N is the number of simulation trials; if N is not\n",
    "                              provided, 10,000 simulations are run\n",
    "                              (by default, no simulation is performed)\n",
    "  --seed=<string>             random seed for simulations\n",
    "  --progress=<number>         periodically report how many simulations we've\n",
    "                              performed"
   ]
  },
  {
   "cell_type": "code",
   "execution_count": 16,
   "id": "located-hebrew",
   "metadata": {},
   "outputs": [
    {
     "name": "stdout",
     "output_type": "stream",
     "text": [
      "Process is interrupted.\n"
     ]
    }
   ],
   "source": [
    "# try the readme commands\n",
    "#%%bash\n",
    "\n",
    "#python ../mutation-rate-intervals/r1-from-minhash-jaccard.py L=4.5M k=21 S=5K C=0.95 J=0.20"
   ]
  },
  {
   "cell_type": "markdown",
   "id": "antique-thompson",
   "metadata": {},
   "source": [
    "# Compare Simulated Read pairs"
   ]
  },
  {
   "cell_type": "markdown",
   "id": "square-affiliation",
   "metadata": {},
   "source": [
    "## Simulation Data\n",
    "\n",
    "simualted data from: https://zenodo.org/record/4034462\n",
    "\n",
    "### Parameters:\n",
    "\n",
    "#### Nucleotide substitution frequences\n",
    "- **f1**: equal frequencies, i.e. freq(A) = freq(C) = freq(G) = freq(T) = 0.25,\n",
    "- **f2**: GC-rich, i.e. freq(A) = 0.1, freq(C) = 0.3, freq(G) = 0.4, freq(T) = 0.2,\n",
    "- **f3**: AT-rich, i.e. freq(A) = freq(T) = 0.4, freq(C) = freq(G) = 0.1.\n",
    "\n",
    "#### Evolutionary model\n",
    "model parameters\n",
    "  - **nogam**: GTR (six relative rates of nucleotide substitution)\n",
    "  - **gamma**: GTR+Γ (six rates and one Γ shape parameter)\n",
    "\n",
    "#### distances\n",
    "0.05 --> 1.0 (stepping by 0.05)\n",
    "\n",
    "sim_distances = range_with_floats_list(0.05, 1.00, 0.05)\n",
    "\n"
   ]
  },
  {
   "cell_type": "markdown",
   "id": "manufactured-caution",
   "metadata": {},
   "source": [
    "The simulated sequences provided on Zenodo are **nucleotide** sequences containing \"--\" stretches to represent indels. Indels were removed (and adjacent sections concatenated) prior to assessment with sourmash.\n",
    "\n",
    "I employed two methods to get protein k-mers: 6-frame translation within sourmash, and prodigal translation --> ORF's. The 6-frame translation results show up within the \"dna input\" files (dnaD) below.\n",
    "\n",
    "The results from assessment via compare-paired-sequences.py were processed into full csv files via process-simreads-csvs.ipynb. The full csvs can be loaded as-is here."
   ]
  },
  {
   "cell_type": "code",
   "execution_count": 44,
   "id": "eight-split",
   "metadata": {},
   "outputs": [],
   "source": [
    "protD = pd.read_csv(\"simread_comparisons.protein.compare.csv.gz\", index_col=0)\n",
    "dnaD = pd.read_csv(\"simread_comparisons.dna.compare.csv.gz\", index_col=0)"
   ]
  },
  {
   "cell_type": "markdown",
   "id": "narrow-feedback",
   "metadata": {},
   "source": [
    "Add'l info needed for mutation-rate-intervals code:\n",
    "  1. sequence length (# nucleotides in sequence) or # of kmers in the sequence (full, not sketch)\n",
    "  2. minhash sketch size (num k-mers)\n",
    "\n",
    "**Each original DNA sequence was 5Mb (5000000) prior to mutation**\n"
   ]
  },
  {
   "cell_type": "code",
   "execution_count": 45,
   "id": "latest-inventory",
   "metadata": {},
   "outputs": [],
   "source": [
    "#protD['orig_seqlen'] = 5000000 #332800\n",
    "#protD['seqlen2'] = protD['numSig2'] * protD['scaled']*3\n",
    "#protD.head()"
   ]
  },
  {
   "cell_type": "code",
   "execution_count": 46,
   "id": "controlling-sleeve",
   "metadata": {},
   "outputs": [
    {
     "data": {
      "text/html": [
       "<div>\n",
       "<style scoped>\n",
       "    .dataframe tbody tr th:only-of-type {\n",
       "        vertical-align: middle;\n",
       "    }\n",
       "\n",
       "    .dataframe tbody tr th {\n",
       "        vertical-align: top;\n",
       "    }\n",
       "\n",
       "    .dataframe thead th {\n",
       "        text-align: right;\n",
       "    }\n",
       "</style>\n",
       "<table border=\"1\" class=\"dataframe\">\n",
       "  <thead>\n",
       "    <tr style=\"text-align: right;\">\n",
       "      <th></th>\n",
       "      <th>p-distance</th>\n",
       "      <th>jaccard</th>\n",
       "      <th>comparison_info</th>\n",
       "      <th>containment</th>\n",
       "      <th>numSig1</th>\n",
       "      <th>numSig2</th>\n",
       "      <th>sharedHashes</th>\n",
       "      <th>alphabet</th>\n",
       "      <th>ksize</th>\n",
       "      <th>nt_freq</th>\n",
       "      <th>model</th>\n",
       "      <th>alpha-ksize</th>\n",
       "      <th>scaled</th>\n",
       "      <th>true_ANI</th>\n",
       "      <th>orig_seqlen</th>\n",
       "      <th>seqlen2</th>\n",
       "    </tr>\n",
       "    <tr>\n",
       "      <th>name</th>\n",
       "      <th></th>\n",
       "      <th></th>\n",
       "      <th></th>\n",
       "      <th></th>\n",
       "      <th></th>\n",
       "      <th></th>\n",
       "      <th></th>\n",
       "      <th></th>\n",
       "      <th></th>\n",
       "      <th></th>\n",
       "      <th></th>\n",
       "      <th></th>\n",
       "      <th></th>\n",
       "      <th></th>\n",
       "      <th></th>\n",
       "      <th></th>\n",
       "    </tr>\n",
       "  </thead>\n",
       "  <tbody>\n",
       "    <tr>\n",
       "      <th>data-d0.05-f3-gamma-seed401</th>\n",
       "      <td>0.043100</td>\n",
       "      <td>0.209971</td>\n",
       "      <td>nucleotide-k21-scaled1000</td>\n",
       "      <td>0.347138</td>\n",
       "      <td>4928</td>\n",
       "      <td>4926</td>\n",
       "      <td>1710</td>\n",
       "      <td>nucleotide</td>\n",
       "      <td>21</td>\n",
       "      <td>f3</td>\n",
       "      <td>gamma</td>\n",
       "      <td>nucleotide-21</td>\n",
       "      <td>1000</td>\n",
       "      <td>0.956900</td>\n",
       "      <td>5000000</td>\n",
       "      <td>4926000</td>\n",
       "    </tr>\n",
       "    <tr>\n",
       "      <th>data-d0.05-f3-gamma-seed402</th>\n",
       "      <td>0.037653</td>\n",
       "      <td>0.255551</td>\n",
       "      <td>nucleotide-k21-scaled1000</td>\n",
       "      <td>0.411777</td>\n",
       "      <td>5004</td>\n",
       "      <td>4891</td>\n",
       "      <td>2014</td>\n",
       "      <td>nucleotide</td>\n",
       "      <td>21</td>\n",
       "      <td>f3</td>\n",
       "      <td>gamma</td>\n",
       "      <td>nucleotide-21</td>\n",
       "      <td>1000</td>\n",
       "      <td>0.962347</td>\n",
       "      <td>5000000</td>\n",
       "      <td>4891000</td>\n",
       "    </tr>\n",
       "    <tr>\n",
       "      <th>data-d0.05-f3-gamma-seed403</th>\n",
       "      <td>0.041617</td>\n",
       "      <td>0.227831</td>\n",
       "      <td>nucleotide-k21-scaled1000</td>\n",
       "      <td>0.378995</td>\n",
       "      <td>5037</td>\n",
       "      <td>5251</td>\n",
       "      <td>1909</td>\n",
       "      <td>nucleotide</td>\n",
       "      <td>21</td>\n",
       "      <td>f3</td>\n",
       "      <td>gamma</td>\n",
       "      <td>nucleotide-21</td>\n",
       "      <td>1000</td>\n",
       "      <td>0.958383</td>\n",
       "      <td>5000000</td>\n",
       "      <td>5251000</td>\n",
       "    </tr>\n",
       "    <tr>\n",
       "      <th>data-d0.05-f3-gamma-seed404</th>\n",
       "      <td>0.041302</td>\n",
       "      <td>0.220304</td>\n",
       "      <td>nucleotide-k21-scaled1000</td>\n",
       "      <td>0.363546</td>\n",
       "      <td>5020</td>\n",
       "      <td>5089</td>\n",
       "      <td>1825</td>\n",
       "      <td>nucleotide</td>\n",
       "      <td>21</td>\n",
       "      <td>f3</td>\n",
       "      <td>gamma</td>\n",
       "      <td>nucleotide-21</td>\n",
       "      <td>1000</td>\n",
       "      <td>0.958698</td>\n",
       "      <td>5000000</td>\n",
       "      <td>5089000</td>\n",
       "    </tr>\n",
       "    <tr>\n",
       "      <th>data-d0.05-f3-gamma-seed405</th>\n",
       "      <td>0.043352</td>\n",
       "      <td>0.207695</td>\n",
       "      <td>nucleotide-k21-scaled1000</td>\n",
       "      <td>0.348479</td>\n",
       "      <td>4864</td>\n",
       "      <td>4992</td>\n",
       "      <td>1695</td>\n",
       "      <td>nucleotide</td>\n",
       "      <td>21</td>\n",
       "      <td>f3</td>\n",
       "      <td>gamma</td>\n",
       "      <td>nucleotide-21</td>\n",
       "      <td>1000</td>\n",
       "      <td>0.956648</td>\n",
       "      <td>5000000</td>\n",
       "      <td>4992000</td>\n",
       "    </tr>\n",
       "  </tbody>\n",
       "</table>\n",
       "</div>"
      ],
      "text/plain": [
       "                             p-distance   jaccard            comparison_info  \\\n",
       "name                                                                           \n",
       "data-d0.05-f3-gamma-seed401    0.043100  0.209971  nucleotide-k21-scaled1000   \n",
       "data-d0.05-f3-gamma-seed402    0.037653  0.255551  nucleotide-k21-scaled1000   \n",
       "data-d0.05-f3-gamma-seed403    0.041617  0.227831  nucleotide-k21-scaled1000   \n",
       "data-d0.05-f3-gamma-seed404    0.041302  0.220304  nucleotide-k21-scaled1000   \n",
       "data-d0.05-f3-gamma-seed405    0.043352  0.207695  nucleotide-k21-scaled1000   \n",
       "\n",
       "                             containment  numSig1  numSig2  sharedHashes  \\\n",
       "name                                                                       \n",
       "data-d0.05-f3-gamma-seed401     0.347138     4928     4926          1710   \n",
       "data-d0.05-f3-gamma-seed402     0.411777     5004     4891          2014   \n",
       "data-d0.05-f3-gamma-seed403     0.378995     5037     5251          1909   \n",
       "data-d0.05-f3-gamma-seed404     0.363546     5020     5089          1825   \n",
       "data-d0.05-f3-gamma-seed405     0.348479     4864     4992          1695   \n",
       "\n",
       "                               alphabet  ksize nt_freq  model    alpha-ksize  \\\n",
       "name                                                                           \n",
       "data-d0.05-f3-gamma-seed401  nucleotide     21      f3  gamma  nucleotide-21   \n",
       "data-d0.05-f3-gamma-seed402  nucleotide     21      f3  gamma  nucleotide-21   \n",
       "data-d0.05-f3-gamma-seed403  nucleotide     21      f3  gamma  nucleotide-21   \n",
       "data-d0.05-f3-gamma-seed404  nucleotide     21      f3  gamma  nucleotide-21   \n",
       "data-d0.05-f3-gamma-seed405  nucleotide     21      f3  gamma  nucleotide-21   \n",
       "\n",
       "                             scaled  true_ANI  orig_seqlen  seqlen2  \n",
       "name                                                                 \n",
       "data-d0.05-f3-gamma-seed401    1000  0.956900      5000000  4926000  \n",
       "data-d0.05-f3-gamma-seed402    1000  0.962347      5000000  4891000  \n",
       "data-d0.05-f3-gamma-seed403    1000  0.958383      5000000  5251000  \n",
       "data-d0.05-f3-gamma-seed404    1000  0.958698      5000000  5089000  \n",
       "data-d0.05-f3-gamma-seed405    1000  0.956648      5000000  4992000  "
      ]
     },
     "execution_count": 46,
     "metadata": {},
     "output_type": "execute_result"
    }
   ],
   "source": [
    "dnaD.head()\n",
    "dnaD['orig_seqlen'] = 5000000\n",
    "#dnaD['seqlen2'] = dnaD['numSig2'] * dnaD['scaled'] \n",
    "dnaD.head()"
   ]
  },
  {
   "cell_type": "code",
   "execution_count": 47,
   "id": "appointed-contract",
   "metadata": {},
   "outputs": [
    {
     "name": "stdout",
     "output_type": "stream",
     "text": [
      "L\tk\tconf\tjaccard\tr1Low\tr1High\n",
      "4928000\t21\t0.950\t0.209971\t0.048915\t0.049372\n"
     ]
    }
   ],
   "source": [
    "%%bash\n",
    "# try a single calculation via r1 from jaccard\n",
    "\n",
    "python ../mutation-rate-intervals/r1-from-jaccard.py L=4928000 k=21 C=0.95 J=0.209971"
   ]
  },
  {
   "cell_type": "code",
   "execution_count": 48,
   "id": "nasty-consortium",
   "metadata": {},
   "outputs": [
    {
     "name": "stdout",
     "output_type": "stream",
     "text": [
      "L\tk\tconf\tjaccard\tr1Low\tr1High\n",
      "5000000\t21\t0.950\t0.209971\t0.048917\t0.049371\n"
     ]
    }
   ],
   "source": [
    "%%bash\n",
    "python ../mutation-rate-intervals/r1-from-jaccard.py L=5000000 k=21 C=0.95 J=0.209971"
   ]
  },
  {
   "cell_type": "code",
   "execution_count": 49,
   "id": "associate-petersburg",
   "metadata": {},
   "outputs": [
    {
     "name": "stdout",
     "output_type": "stream",
     "text": [
      "L\tk\tconf\tjaccard\tr1Low\tr1High\n",
      "5000000\t21\t0.950\t0.255551\t0.041691\t0.042100\n"
     ]
    }
   ],
   "source": [
    "%%bash\n",
    "python ../mutation-rate-intervals/r1-from-jaccard.py L=5000000 k=21 C=0.95 J=0.255551"
   ]
  },
  {
   "cell_type": "code",
   "execution_count": 43,
   "id": "expired-economy",
   "metadata": {},
   "outputs": [
    {
     "name": "stdout",
     "output_type": "stream",
     "text": [
      "L\tk\ts\tconf\tslices\tjHat\tr1Low\tr1High\n",
      "5000000\t21\t5000\t0.950\t100\t0.209971\t0.047166\t0.051247\n"
     ]
    }
   ],
   "source": [
    "%%bash\n",
    "python ../mutation-rate-intervals/r1-from-minhash-jaccard.py L=5000000 k=21 C=0.95 J=0.209971 S=5000"
   ]
  },
  {
   "cell_type": "code",
   "execution_count": 51,
   "id": "vanilla-burning",
   "metadata": {},
   "outputs": [
    {
     "name": "stdout",
     "output_type": "stream",
     "text": [
      "L\tk\ts\tconf\tslices\tjHat\tr1Low\tr1High\n",
      "5000000\t21\t10000\t0.950\t100\t0.209971\t0.047726\t0.050619\n"
     ]
    }
   ],
   "source": [
    "%%bash\n",
    "python ../mutation-rate-intervals/r1-from-minhash-jaccard.py L=5000000 k=21 C=0.95 J=0.209971 S=10000"
   ]
  },
  {
   "cell_type": "code",
   "execution_count": 52,
   "id": "micro-maximum",
   "metadata": {},
   "outputs": [],
   "source": [
    "# try mash distance equations\n",
    "\n",
    "def mash_evoldist(row):\n",
    "    pdist = 1- ((2*row[\"jaccard\"]/(row[\"jaccard\"]+1))** (1/row[\"ksize\"]))\n",
    "    row[\"jaccard_pdist\"] = -np.log(1 - pdist) #default log base is e\n",
    "    c_pdist = 1- ((2*row[\"containment\"]/(row[\"containment\"]+1))** (1/row[\"ksize\"]))\n",
    "    row[\"contain_pdist\"] = -np.log(1 - c_pdist) #default log base is e\n",
    "    return row\n"
   ]
  },
  {
   "cell_type": "code",
   "execution_count": 61,
   "id": "regulated-symposium",
   "metadata": {},
   "outputs": [
    {
     "data": {
      "text/plain": [
       "(433200, 16)"
      ]
     },
     "execution_count": 61,
     "metadata": {},
     "output_type": "execute_result"
    }
   ],
   "source": [
    "dnaD.shape"
   ]
  },
  {
   "cell_type": "code",
   "execution_count": 62,
   "id": "powered-riding",
   "metadata": {},
   "outputs": [],
   "source": [
    "dnaD = dnaD[dnaD[\"jaccard\"] >0]"
   ]
  },
  {
   "cell_type": "code",
   "execution_count": 63,
   "id": "fleet-value",
   "metadata": {},
   "outputs": [
    {
     "data": {
      "text/plain": [
       "(339704, 16)"
      ]
     },
     "execution_count": 63,
     "metadata": {},
     "output_type": "execute_result"
    }
   ],
   "source": [
    "dnaD.shape"
   ]
  },
  {
   "cell_type": "code",
   "execution_count": 65,
   "id": "hired-professional",
   "metadata": {},
   "outputs": [],
   "source": [
    "test_dnaD = dnaD[:500].apply(mash_evoldist, axis=1)"
   ]
  },
  {
   "cell_type": "code",
   "execution_count": 66,
   "id": "dependent-discussion",
   "metadata": {},
   "outputs": [
    {
     "data": {
      "text/html": [
       "<div>\n",
       "<style scoped>\n",
       "    .dataframe tbody tr th:only-of-type {\n",
       "        vertical-align: middle;\n",
       "    }\n",
       "\n",
       "    .dataframe tbody tr th {\n",
       "        vertical-align: top;\n",
       "    }\n",
       "\n",
       "    .dataframe thead th {\n",
       "        text-align: right;\n",
       "    }\n",
       "</style>\n",
       "<table border=\"1\" class=\"dataframe\">\n",
       "  <thead>\n",
       "    <tr style=\"text-align: right;\">\n",
       "      <th></th>\n",
       "      <th>p-distance</th>\n",
       "      <th>jaccard</th>\n",
       "      <th>comparison_info</th>\n",
       "      <th>containment</th>\n",
       "      <th>numSig1</th>\n",
       "      <th>numSig2</th>\n",
       "      <th>sharedHashes</th>\n",
       "      <th>alphabet</th>\n",
       "      <th>ksize</th>\n",
       "      <th>nt_freq</th>\n",
       "      <th>model</th>\n",
       "      <th>alpha-ksize</th>\n",
       "      <th>scaled</th>\n",
       "      <th>true_ANI</th>\n",
       "      <th>orig_seqlen</th>\n",
       "      <th>seqlen2</th>\n",
       "      <th>jaccard_pdist</th>\n",
       "      <th>contain_pdist</th>\n",
       "    </tr>\n",
       "    <tr>\n",
       "      <th>name</th>\n",
       "      <th></th>\n",
       "      <th></th>\n",
       "      <th></th>\n",
       "      <th></th>\n",
       "      <th></th>\n",
       "      <th></th>\n",
       "      <th></th>\n",
       "      <th></th>\n",
       "      <th></th>\n",
       "      <th></th>\n",
       "      <th></th>\n",
       "      <th></th>\n",
       "      <th></th>\n",
       "      <th></th>\n",
       "      <th></th>\n",
       "      <th></th>\n",
       "      <th></th>\n",
       "      <th></th>\n",
       "    </tr>\n",
       "  </thead>\n",
       "  <tbody>\n",
       "    <tr>\n",
       "      <th>data-d0.05-f3-gamma-seed401</th>\n",
       "      <td>0.043100</td>\n",
       "      <td>0.209971</td>\n",
       "      <td>nucleotide-k21-scaled1000</td>\n",
       "      <td>0.347138</td>\n",
       "      <td>4928</td>\n",
       "      <td>4926</td>\n",
       "      <td>1710</td>\n",
       "      <td>nucleotide</td>\n",
       "      <td>21</td>\n",
       "      <td>f3</td>\n",
       "      <td>gamma</td>\n",
       "      <td>nucleotide-21</td>\n",
       "      <td>1000</td>\n",
       "      <td>0.956900</td>\n",
       "      <td>5000000</td>\n",
       "      <td>4926000</td>\n",
       "      <td>0.050392</td>\n",
       "      <td>0.031565</td>\n",
       "    </tr>\n",
       "    <tr>\n",
       "      <th>data-d0.05-f3-gamma-seed402</th>\n",
       "      <td>0.037653</td>\n",
       "      <td>0.255551</td>\n",
       "      <td>nucleotide-k21-scaled1000</td>\n",
       "      <td>0.411777</td>\n",
       "      <td>5004</td>\n",
       "      <td>4891</td>\n",
       "      <td>2014</td>\n",
       "      <td>nucleotide</td>\n",
       "      <td>21</td>\n",
       "      <td>f3</td>\n",
       "      <td>gamma</td>\n",
       "      <td>nucleotide-21</td>\n",
       "      <td>1000</td>\n",
       "      <td>0.962347</td>\n",
       "      <td>5000000</td>\n",
       "      <td>4891000</td>\n",
       "      <td>0.042798</td>\n",
       "      <td>0.025666</td>\n",
       "    </tr>\n",
       "    <tr>\n",
       "      <th>data-d0.05-f3-gamma-seed403</th>\n",
       "      <td>0.041617</td>\n",
       "      <td>0.227831</td>\n",
       "      <td>nucleotide-k21-scaled1000</td>\n",
       "      <td>0.378995</td>\n",
       "      <td>5037</td>\n",
       "      <td>5251</td>\n",
       "      <td>1909</td>\n",
       "      <td>nucleotide</td>\n",
       "      <td>21</td>\n",
       "      <td>f3</td>\n",
       "      <td>gamma</td>\n",
       "      <td>nucleotide-21</td>\n",
       "      <td>1000</td>\n",
       "      <td>0.958383</td>\n",
       "      <td>5000000</td>\n",
       "      <td>5251000</td>\n",
       "      <td>0.047202</td>\n",
       "      <td>0.028497</td>\n",
       "    </tr>\n",
       "    <tr>\n",
       "      <th>data-d0.05-f3-gamma-seed404</th>\n",
       "      <td>0.041302</td>\n",
       "      <td>0.220304</td>\n",
       "      <td>nucleotide-k21-scaled1000</td>\n",
       "      <td>0.363546</td>\n",
       "      <td>5020</td>\n",
       "      <td>5089</td>\n",
       "      <td>1825</td>\n",
       "      <td>nucleotide</td>\n",
       "      <td>21</td>\n",
       "      <td>f3</td>\n",
       "      <td>gamma</td>\n",
       "      <td>nucleotide-21</td>\n",
       "      <td>1000</td>\n",
       "      <td>0.958698</td>\n",
       "      <td>5000000</td>\n",
       "      <td>5089000</td>\n",
       "      <td>0.048509</td>\n",
       "      <td>0.029942</td>\n",
       "    </tr>\n",
       "    <tr>\n",
       "      <th>data-d0.05-f3-gamma-seed405</th>\n",
       "      <td>0.043352</td>\n",
       "      <td>0.207695</td>\n",
       "      <td>nucleotide-k21-scaled1000</td>\n",
       "      <td>0.348479</td>\n",
       "      <td>4864</td>\n",
       "      <td>4992</td>\n",
       "      <td>1695</td>\n",
       "      <td>nucleotide</td>\n",
       "      <td>21</td>\n",
       "      <td>f3</td>\n",
       "      <td>gamma</td>\n",
       "      <td>nucleotide-21</td>\n",
       "      <td>1000</td>\n",
       "      <td>0.956648</td>\n",
       "      <td>5000000</td>\n",
       "      <td>4992000</td>\n",
       "      <td>0.050821</td>\n",
       "      <td>0.031429</td>\n",
       "    </tr>\n",
       "    <tr>\n",
       "      <th>...</th>\n",
       "      <td>...</td>\n",
       "      <td>...</td>\n",
       "      <td>...</td>\n",
       "      <td>...</td>\n",
       "      <td>...</td>\n",
       "      <td>...</td>\n",
       "      <td>...</td>\n",
       "      <td>...</td>\n",
       "      <td>...</td>\n",
       "      <td>...</td>\n",
       "      <td>...</td>\n",
       "      <td>...</td>\n",
       "      <td>...</td>\n",
       "      <td>...</td>\n",
       "      <td>...</td>\n",
       "      <td>...</td>\n",
       "      <td>...</td>\n",
       "      <td>...</td>\n",
       "    </tr>\n",
       "    <tr>\n",
       "      <th>data-d0.40-f2-nogam-seed327</th>\n",
       "      <td>0.298217</td>\n",
       "      <td>0.000115</td>\n",
       "      <td>nucleotide-k21-scaled1000</td>\n",
       "      <td>0.000234</td>\n",
       "      <td>4405</td>\n",
       "      <td>4274</td>\n",
       "      <td>1</td>\n",
       "      <td>nucleotide</td>\n",
       "      <td>21</td>\n",
       "      <td>f2</td>\n",
       "      <td>nogam</td>\n",
       "      <td>nucleotide-21</td>\n",
       "      <td>1000</td>\n",
       "      <td>0.701783</td>\n",
       "      <td>5000000</td>\n",
       "      <td>4274000</td>\n",
       "      <td>0.398834</td>\n",
       "      <td>0.365114</td>\n",
       "    </tr>\n",
       "    <tr>\n",
       "      <th>data-d0.40-f2-nogam-seed330</th>\n",
       "      <td>0.297125</td>\n",
       "      <td>0.000232</td>\n",
       "      <td>nucleotide-k21-scaled1000</td>\n",
       "      <td>0.000470</td>\n",
       "      <td>4251</td>\n",
       "      <td>4382</td>\n",
       "      <td>2</td>\n",
       "      <td>nucleotide</td>\n",
       "      <td>21</td>\n",
       "      <td>f2</td>\n",
       "      <td>nogam</td>\n",
       "      <td>nucleotide-21</td>\n",
       "      <td>1000</td>\n",
       "      <td>0.702875</td>\n",
       "      <td>5000000</td>\n",
       "      <td>4382000</td>\n",
       "      <td>0.365574</td>\n",
       "      <td>0.331861</td>\n",
       "    </tr>\n",
       "    <tr>\n",
       "      <th>data-d0.40-f2-nogam-seed331</th>\n",
       "      <td>0.283787</td>\n",
       "      <td>0.000338</td>\n",
       "      <td>nucleotide-k21-scaled1000</td>\n",
       "      <td>0.000676</td>\n",
       "      <td>4452</td>\n",
       "      <td>4439</td>\n",
       "      <td>3</td>\n",
       "      <td>nucleotide</td>\n",
       "      <td>21</td>\n",
       "      <td>f2</td>\n",
       "      <td>nogam</td>\n",
       "      <td>nucleotide-21</td>\n",
       "      <td>1000</td>\n",
       "      <td>0.716213</td>\n",
       "      <td>5000000</td>\n",
       "      <td>4439000</td>\n",
       "      <td>0.347668</td>\n",
       "      <td>0.314624</td>\n",
       "    </tr>\n",
       "    <tr>\n",
       "      <th>data-d0.40-f2-nogam-seed332</th>\n",
       "      <td>0.286078</td>\n",
       "      <td>0.000456</td>\n",
       "      <td>nucleotide-k21-scaled1000</td>\n",
       "      <td>0.000919</td>\n",
       "      <td>4425</td>\n",
       "      <td>4354</td>\n",
       "      <td>4</td>\n",
       "      <td>nucleotide</td>\n",
       "      <td>21</td>\n",
       "      <td>f2</td>\n",
       "      <td>nogam</td>\n",
       "      <td>nucleotide-21</td>\n",
       "      <td>1000</td>\n",
       "      <td>0.713922</td>\n",
       "      <td>5000000</td>\n",
       "      <td>4354000</td>\n",
       "      <td>0.333366</td>\n",
       "      <td>0.300016</td>\n",
       "    </tr>\n",
       "    <tr>\n",
       "      <th>data-d0.40-f2-nogam-seed333</th>\n",
       "      <td>0.299973</td>\n",
       "      <td>0.000234</td>\n",
       "      <td>nucleotide-k21-scaled1000</td>\n",
       "      <td>0.000508</td>\n",
       "      <td>4609</td>\n",
       "      <td>3936</td>\n",
       "      <td>2</td>\n",
       "      <td>nucleotide</td>\n",
       "      <td>21</td>\n",
       "      <td>f2</td>\n",
       "      <td>nogam</td>\n",
       "      <td>nucleotide-21</td>\n",
       "      <td>1000</td>\n",
       "      <td>0.700027</td>\n",
       "      <td>5000000</td>\n",
       "      <td>3936000</td>\n",
       "      <td>0.365086</td>\n",
       "      <td>0.328197</td>\n",
       "    </tr>\n",
       "  </tbody>\n",
       "</table>\n",
       "<p>500 rows × 18 columns</p>\n",
       "</div>"
      ],
      "text/plain": [
       "                             p-distance   jaccard            comparison_info  \\\n",
       "name                                                                           \n",
       "data-d0.05-f3-gamma-seed401    0.043100  0.209971  nucleotide-k21-scaled1000   \n",
       "data-d0.05-f3-gamma-seed402    0.037653  0.255551  nucleotide-k21-scaled1000   \n",
       "data-d0.05-f3-gamma-seed403    0.041617  0.227831  nucleotide-k21-scaled1000   \n",
       "data-d0.05-f3-gamma-seed404    0.041302  0.220304  nucleotide-k21-scaled1000   \n",
       "data-d0.05-f3-gamma-seed405    0.043352  0.207695  nucleotide-k21-scaled1000   \n",
       "...                                 ...       ...                        ...   \n",
       "data-d0.40-f2-nogam-seed327    0.298217  0.000115  nucleotide-k21-scaled1000   \n",
       "data-d0.40-f2-nogam-seed330    0.297125  0.000232  nucleotide-k21-scaled1000   \n",
       "data-d0.40-f2-nogam-seed331    0.283787  0.000338  nucleotide-k21-scaled1000   \n",
       "data-d0.40-f2-nogam-seed332    0.286078  0.000456  nucleotide-k21-scaled1000   \n",
       "data-d0.40-f2-nogam-seed333    0.299973  0.000234  nucleotide-k21-scaled1000   \n",
       "\n",
       "                             containment  numSig1  numSig2  sharedHashes  \\\n",
       "name                                                                       \n",
       "data-d0.05-f3-gamma-seed401     0.347138     4928     4926          1710   \n",
       "data-d0.05-f3-gamma-seed402     0.411777     5004     4891          2014   \n",
       "data-d0.05-f3-gamma-seed403     0.378995     5037     5251          1909   \n",
       "data-d0.05-f3-gamma-seed404     0.363546     5020     5089          1825   \n",
       "data-d0.05-f3-gamma-seed405     0.348479     4864     4992          1695   \n",
       "...                                  ...      ...      ...           ...   \n",
       "data-d0.40-f2-nogam-seed327     0.000234     4405     4274             1   \n",
       "data-d0.40-f2-nogam-seed330     0.000470     4251     4382             2   \n",
       "data-d0.40-f2-nogam-seed331     0.000676     4452     4439             3   \n",
       "data-d0.40-f2-nogam-seed332     0.000919     4425     4354             4   \n",
       "data-d0.40-f2-nogam-seed333     0.000508     4609     3936             2   \n",
       "\n",
       "                               alphabet  ksize nt_freq  model    alpha-ksize  \\\n",
       "name                                                                           \n",
       "data-d0.05-f3-gamma-seed401  nucleotide     21      f3  gamma  nucleotide-21   \n",
       "data-d0.05-f3-gamma-seed402  nucleotide     21      f3  gamma  nucleotide-21   \n",
       "data-d0.05-f3-gamma-seed403  nucleotide     21      f3  gamma  nucleotide-21   \n",
       "data-d0.05-f3-gamma-seed404  nucleotide     21      f3  gamma  nucleotide-21   \n",
       "data-d0.05-f3-gamma-seed405  nucleotide     21      f3  gamma  nucleotide-21   \n",
       "...                                 ...    ...     ...    ...            ...   \n",
       "data-d0.40-f2-nogam-seed327  nucleotide     21      f2  nogam  nucleotide-21   \n",
       "data-d0.40-f2-nogam-seed330  nucleotide     21      f2  nogam  nucleotide-21   \n",
       "data-d0.40-f2-nogam-seed331  nucleotide     21      f2  nogam  nucleotide-21   \n",
       "data-d0.40-f2-nogam-seed332  nucleotide     21      f2  nogam  nucleotide-21   \n",
       "data-d0.40-f2-nogam-seed333  nucleotide     21      f2  nogam  nucleotide-21   \n",
       "\n",
       "                             scaled  true_ANI  orig_seqlen  seqlen2  \\\n",
       "name                                                                  \n",
       "data-d0.05-f3-gamma-seed401    1000  0.956900      5000000  4926000   \n",
       "data-d0.05-f3-gamma-seed402    1000  0.962347      5000000  4891000   \n",
       "data-d0.05-f3-gamma-seed403    1000  0.958383      5000000  5251000   \n",
       "data-d0.05-f3-gamma-seed404    1000  0.958698      5000000  5089000   \n",
       "data-d0.05-f3-gamma-seed405    1000  0.956648      5000000  4992000   \n",
       "...                             ...       ...          ...      ...   \n",
       "data-d0.40-f2-nogam-seed327    1000  0.701783      5000000  4274000   \n",
       "data-d0.40-f2-nogam-seed330    1000  0.702875      5000000  4382000   \n",
       "data-d0.40-f2-nogam-seed331    1000  0.716213      5000000  4439000   \n",
       "data-d0.40-f2-nogam-seed332    1000  0.713922      5000000  4354000   \n",
       "data-d0.40-f2-nogam-seed333    1000  0.700027      5000000  3936000   \n",
       "\n",
       "                             jaccard_pdist  contain_pdist  \n",
       "name                                                       \n",
       "data-d0.05-f3-gamma-seed401       0.050392       0.031565  \n",
       "data-d0.05-f3-gamma-seed402       0.042798       0.025666  \n",
       "data-d0.05-f3-gamma-seed403       0.047202       0.028497  \n",
       "data-d0.05-f3-gamma-seed404       0.048509       0.029942  \n",
       "data-d0.05-f3-gamma-seed405       0.050821       0.031429  \n",
       "...                                    ...            ...  \n",
       "data-d0.40-f2-nogam-seed327       0.398834       0.365114  \n",
       "data-d0.40-f2-nogam-seed330       0.365574       0.331861  \n",
       "data-d0.40-f2-nogam-seed331       0.347668       0.314624  \n",
       "data-d0.40-f2-nogam-seed332       0.333366       0.300016  \n",
       "data-d0.40-f2-nogam-seed333       0.365086       0.328197  \n",
       "\n",
       "[500 rows x 18 columns]"
      ]
     },
     "execution_count": 66,
     "metadata": {},
     "output_type": "execute_result"
    }
   ],
   "source": [
    "test_dnaD"
   ]
  },
  {
   "cell_type": "code",
   "execution_count": 75,
   "id": "impossible-dover",
   "metadata": {},
   "outputs": [
    {
     "data": {
      "text/plain": [
       "0.957"
      ]
     },
     "execution_count": 75,
     "metadata": {},
     "output_type": "execute_result"
    }
   ],
   "source": [
    "1-0.043# 100"
   ]
  },
  {
   "cell_type": "code",
   "execution_count": 76,
   "id": "signal-madonna",
   "metadata": {},
   "outputs": [
    {
     "data": {
      "text/plain": [
       "0.949608"
      ]
     },
     "execution_count": 76,
     "metadata": {},
     "output_type": "execute_result"
    }
   ],
   "source": [
    "1-0.050392"
   ]
  },
  {
   "cell_type": "code",
   "execution_count": null,
   "id": "acquired-exclusion",
   "metadata": {},
   "outputs": [],
   "source": [
    "protD = protD[protD[\"jaccard\"] > 0].apply(mash_evoldist, axis=1)"
   ]
  }
 ],
 "metadata": {
  "kernelspec": {
   "display_name": "Python 3",
   "language": "python",
   "name": "python3"
  },
  "language_info": {
   "codemirror_mode": {
    "name": "ipython",
    "version": 3
   },
   "file_extension": ".py",
   "mimetype": "text/x-python",
   "name": "python",
   "nbconvert_exporter": "python",
   "pygments_lexer": "ipython3",
   "version": "3.8.6"
  }
 },
 "nbformat": 4,
 "nbformat_minor": 5
}
